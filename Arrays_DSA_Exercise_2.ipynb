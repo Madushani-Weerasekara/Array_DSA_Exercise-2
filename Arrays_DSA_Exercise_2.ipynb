{
  "nbformat": 4,
  "nbformat_minor": 0,
  "metadata": {
    "colab": {
      "provenance": [],
      "authorship_tag": "ABX9TyMyHeiznowskHqkcDWIAmz3",
      "include_colab_link": true
    },
    "kernelspec": {
      "name": "python3",
      "display_name": "Python 3"
    },
    "language_info": {
      "name": "python"
    }
  },
  "cells": [
    {
      "cell_type": "markdown",
      "metadata": {
        "id": "view-in-github",
        "colab_type": "text"
      },
      "source": [
        "<a href=\"https://colab.research.google.com/github/Madushani-Weerasekara/Array_DSA_Exercise-2/blob/main/Arrays_DSA_Exercise_2.ipynb\" target=\"_parent\"><img src=\"https://colab.research.google.com/assets/colab-badge.svg\" alt=\"Open In Colab\"/></a>"
      ]
    },
    {
      "cell_type": "code",
      "execution_count": 15,
      "metadata": {
        "id": "AE2uo8qyJF22"
      },
      "outputs": [],
      "source": [
        "#Array_Exercise 2"
      ]
    },
    {
      "cell_type": "code",
      "source": [
        "\"\"\"\"\n",
        "\n",
        "    You have a list of your favourite marvel super heros.\n",
        "\n",
        "heros=['spider man','thor','hulk','iron man','captain america']\n",
        "\n",
        "Using this find out,\n",
        "\n",
        "1. Length of the list\n",
        "2. Add 'black panther' at the end of this list\n",
        "3. You realize that you need to add 'black panther' after 'hulk',\n",
        "   so remove it from the list first and then add it after 'hulk'\n",
        "4. Now you don't like thor and hulk because they get angry easily :)\n",
        "   So you want to remove thor and hulk from list and replace them with doctor strange (because he is cool).\n",
        "   Do that with one line of code.\n",
        "5. Sort the heros list in alphabetical order (Hint. Use dir() functions to list down all functions available in list)\n",
        "\n",
        "\"\"\"\"\""
      ],
      "metadata": {
        "id": "RHqF1wXBJL2t",
        "colab": {
          "base_uri": "https://localhost:8080/",
          "height": 107
        },
        "outputId": "56f9adf7-3d03-4cc9-adeb-b4a97e4ce341"
      },
      "execution_count": 16,
      "outputs": [
        {
          "output_type": "execute_result",
          "data": {
            "text/plain": [
              "'\"\\n\\n    You have a list of your favourite marvel super heros.\\n\\nheros=[\\'spider man\\',\\'thor\\',\\'hulk\\',\\'iron man\\',\\'captain america\\']\\n\\nUsing this find out,\\n\\n1. Length of the list\\n2. Add \\'black panther\\' at the end of this list\\n3. You realize that you need to add \\'black panther\\' after \\'hulk\\',\\n   so remove it from the list first and then add it after \\'hulk\\'\\n4. Now you don\\'t like thor and hulk because they get angry easily :)\\n   So you want to remove thor and hulk from list and replace them with doctor strange (because he is cool).\\n   Do that with one line of code.\\n5. Sort the heros list in alphabetical order (Hint. Use dir() functions to list down all functions available in list)\\n\\n'"
            ],
            "application/vnd.google.colaboratory.intrinsic+json": {
              "type": "string"
            }
          },
          "metadata": {},
          "execution_count": 16
        }
      ]
    },
    {
      "cell_type": "code",
      "source": [
        "heros = ['spider man','thor','hulk','iron man','captain america']"
      ],
      "metadata": {
        "id": "l3AzSZ69j9vi"
      },
      "execution_count": 17,
      "outputs": []
    },
    {
      "cell_type": "code",
      "source": [
        "#1. Length of the list\n",
        "len(heros)"
      ],
      "metadata": {
        "colab": {
          "base_uri": "https://localhost:8080/"
        },
        "id": "vEO3qpXckID1",
        "outputId": "318a4606-ee62-4d35-f8d0-8e5f3bcc5d26"
      },
      "execution_count": 18,
      "outputs": [
        {
          "output_type": "execute_result",
          "data": {
            "text/plain": [
              "5"
            ]
          },
          "metadata": {},
          "execution_count": 18
        }
      ]
    },
    {
      "cell_type": "code",
      "source": [
        "#2.Add 'black panther' at the end of this list\n",
        "heros.append('black panther')"
      ],
      "metadata": {
        "id": "Z7AKDNU8kTQh"
      },
      "execution_count": 19,
      "outputs": []
    },
    {
      "cell_type": "code",
      "source": [
        "heros"
      ],
      "metadata": {
        "colab": {
          "base_uri": "https://localhost:8080/"
        },
        "id": "rECn5normdPH",
        "outputId": "1fe482ca-cee8-48af-92df-f95314e2477b"
      },
      "execution_count": 20,
      "outputs": [
        {
          "output_type": "execute_result",
          "data": {
            "text/plain": [
              "['spider man', 'thor', 'hulk', 'iron man', 'captain america', 'black panther']"
            ]
          },
          "metadata": {},
          "execution_count": 20
        }
      ]
    },
    {
      "cell_type": "code",
      "source": [
        "#3. You realize that you need to add 'black panther' after 'hulk',\n",
        "#so remove it from the list first and then add it after 'hulk'\"\"\n",
        "heros.remove('black panther')\n",
        "heros.insert(3,'black panther')"
      ],
      "metadata": {
        "id": "4gC-nJzUkpkZ"
      },
      "execution_count": 22,
      "outputs": []
    },
    {
      "cell_type": "code",
      "source": [
        "heros"
      ],
      "metadata": {
        "colab": {
          "base_uri": "https://localhost:8080/"
        },
        "id": "HYNax2TEmkZH",
        "outputId": "3ee8b9e0-a38a-471c-e04b-384bb18924ca"
      },
      "execution_count": 23,
      "outputs": [
        {
          "output_type": "execute_result",
          "data": {
            "text/plain": [
              "['spider man', 'thor', 'hulk', 'black panther', 'iron man', 'captain america']"
            ]
          },
          "metadata": {},
          "execution_count": 23
        }
      ]
    },
    {
      "cell_type": "code",
      "source": [],
      "metadata": {
        "id": "nCvWasnsmGPR"
      },
      "execution_count": 21,
      "outputs": []
    }
  ]
}