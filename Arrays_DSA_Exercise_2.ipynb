{
  "nbformat": 4,
  "nbformat_minor": 0,
  "metadata": {
    "colab": {
      "provenance": [],
      "authorship_tag": "ABX9TyNuhTdo2Ma5zpHL7DT1Ln2j",
      "include_colab_link": true
    },
    "kernelspec": {
      "name": "python3",
      "display_name": "Python 3"
    },
    "language_info": {
      "name": "python"
    }
  },
  "cells": [
    {
      "cell_type": "markdown",
      "metadata": {
        "id": "view-in-github",
        "colab_type": "text"
      },
      "source": [
        "<a href=\"https://colab.research.google.com/github/Madushani-Weerasekara/Array_DSA_Exercise-2/blob/main/Arrays_DSA_Exercise_2.ipynb\" target=\"_parent\"><img src=\"https://colab.research.google.com/assets/colab-badge.svg\" alt=\"Open In Colab\"/></a>"
      ]
    },
    {
      "cell_type": "code",
      "execution_count": 35,
      "metadata": {
        "id": "AE2uo8qyJF22"
      },
      "outputs": [],
      "source": [
        "#Array_Exercise 2"
      ]
    },
    {
      "cell_type": "code",
      "source": [
        "\"\"\"\"\n",
        "\n",
        "    You have a list of your favourite marvel super heros.\n",
        "\n",
        "heros=['spider man','thor','hulk','iron man','captain america']\n",
        "\n",
        "Using this find out,\n",
        "\n",
        "1. Length of the list\n",
        "2. Add 'black panther' at the end of this list\n",
        "3. You realize that you need to add 'black panther' after 'hulk',\n",
        "   so remove it from the list first and then add it after 'hulk'\n",
        "4. Now you don't like thor and hulk because they get angry easily :)\n",
        "   So you want to remove thor and hulk from list and replace them with doctor strange (because he is cool).\n",
        "   Do that with one line of code.\n",
        "5. Sort the heros list in alphabetical order (Hint. Use dir() functions to list down all functions available in list)\n",
        "\n",
        "\"\"\"\"\""
      ],
      "metadata": {
        "id": "RHqF1wXBJL2t",
        "colab": {
          "base_uri": "https://localhost:8080/",
          "height": 107
        },
        "outputId": "3f6c2194-658b-4d14-8ef6-61a941f3a6a7"
      },
      "execution_count": 36,
      "outputs": [
        {
          "output_type": "execute_result",
          "data": {
            "text/plain": [
              "'\"\\n\\n    You have a list of your favourite marvel super heros.\\n\\nheros=[\\'spider man\\',\\'thor\\',\\'hulk\\',\\'iron man\\',\\'captain america\\']\\n\\nUsing this find out,\\n\\n1. Length of the list\\n2. Add \\'black panther\\' at the end of this list\\n3. You realize that you need to add \\'black panther\\' after \\'hulk\\',\\n   so remove it from the list first and then add it after \\'hulk\\'\\n4. Now you don\\'t like thor and hulk because they get angry easily :)\\n   So you want to remove thor and hulk from list and replace them with doctor strange (because he is cool).\\n   Do that with one line of code.\\n5. Sort the heros list in alphabetical order (Hint. Use dir() functions to list down all functions available in list)\\n\\n'"
            ],
            "application/vnd.google.colaboratory.intrinsic+json": {
              "type": "string"
            }
          },
          "metadata": {},
          "execution_count": 36
        }
      ]
    },
    {
      "cell_type": "code",
      "source": [
        "heros = ['spider man','thor','hulk','iron man','captain america']"
      ],
      "metadata": {
        "id": "l3AzSZ69j9vi"
      },
      "execution_count": 37,
      "outputs": []
    },
    {
      "cell_type": "code",
      "source": [
        "#1. Length of the list\n",
        "len(heros)"
      ],
      "metadata": {
        "colab": {
          "base_uri": "https://localhost:8080/"
        },
        "id": "vEO3qpXckID1",
        "outputId": "eb06c60d-ce93-4076-b34d-e7455c78dd32"
      },
      "execution_count": 38,
      "outputs": [
        {
          "output_type": "execute_result",
          "data": {
            "text/plain": [
              "5"
            ]
          },
          "metadata": {},
          "execution_count": 38
        }
      ]
    },
    {
      "cell_type": "code",
      "source": [
        "#2.Add 'black panther' at the end of this list\n",
        "heros.append('black panther')"
      ],
      "metadata": {
        "id": "Z7AKDNU8kTQh"
      },
      "execution_count": 39,
      "outputs": []
    },
    {
      "cell_type": "code",
      "source": [
        "heros"
      ],
      "metadata": {
        "colab": {
          "base_uri": "https://localhost:8080/"
        },
        "id": "rECn5normdPH",
        "outputId": "f55d4ea3-c527-4891-afcc-9c2a399a9681"
      },
      "execution_count": 40,
      "outputs": [
        {
          "output_type": "execute_result",
          "data": {
            "text/plain": [
              "['spider man', 'thor', 'hulk', 'iron man', 'captain america', 'black panther']"
            ]
          },
          "metadata": {},
          "execution_count": 40
        }
      ]
    },
    {
      "cell_type": "code",
      "source": [
        "#3. You realize that you need to add 'black panther' after 'hulk',\n",
        "#so remove it from the list first and then add it after 'hulk'\"\"\n",
        "heros.remove('black panther')\n",
        "heros.insert(3,'black panther')"
      ],
      "metadata": {
        "id": "4gC-nJzUkpkZ"
      },
      "execution_count": 41,
      "outputs": []
    },
    {
      "cell_type": "code",
      "source": [
        "heros"
      ],
      "metadata": {
        "colab": {
          "base_uri": "https://localhost:8080/"
        },
        "id": "HYNax2TEmkZH",
        "outputId": "ff306a78-fc07-428e-fede-4d82316a954b"
      },
      "execution_count": 42,
      "outputs": [
        {
          "output_type": "execute_result",
          "data": {
            "text/plain": [
              "['spider man', 'thor', 'hulk', 'black panther', 'iron man', 'captain america']"
            ]
          },
          "metadata": {},
          "execution_count": 42
        }
      ]
    },
    {
      "cell_type": "code",
      "source": [
        "#4. Now you don't like thor and hulk because they get angry easily :)\n",
        "#So you want to remove thor and hulk from list and replace them with doctor strange (because he is cool).\n",
        "#Do that with one line of code.\n",
        "\n",
        "heros[1:2] = ['doctor strange']\n",
        "\n"
      ],
      "metadata": {
        "id": "nCvWasnsmGPR"
      },
      "execution_count": 43,
      "outputs": []
    },
    {
      "cell_type": "code",
      "source": [
        "print(heros)"
      ],
      "metadata": {
        "colab": {
          "base_uri": "https://localhost:8080/"
        },
        "id": "6FXoFXSYn_Ib",
        "outputId": "9670ced5-297a-4085-805a-bb992e01a1ae"
      },
      "execution_count": 44,
      "outputs": [
        {
          "output_type": "stream",
          "name": "stdout",
          "text": [
            "['spider man', 'doctor strange', 'hulk', 'black panther', 'iron man', 'captain america']\n"
          ]
        }
      ]
    },
    {
      "cell_type": "code",
      "source": [
        "#5. Sort the heros list in alphabetical order (Hint. Use dir() functions to list down all functions available in list)\n",
        "heros.sort()"
      ],
      "metadata": {
        "id": "023_bGOVr24e"
      },
      "execution_count": 45,
      "outputs": []
    },
    {
      "cell_type": "code",
      "source": [
        "print(heros)"
      ],
      "metadata": {
        "colab": {
          "base_uri": "https://localhost:8080/"
        },
        "id": "q-b-tRR9r7ek",
        "outputId": "94850cb0-0a6a-4afc-ee77-154c0f651b40"
      },
      "execution_count": 46,
      "outputs": [
        {
          "output_type": "stream",
          "name": "stdout",
          "text": [
            "['black panther', 'captain america', 'doctor strange', 'hulk', 'iron man', 'spider man']\n"
          ]
        }
      ]
    },
    {
      "cell_type": "code",
      "source": [],
      "metadata": {
        "id": "6qijaBe5r9h_"
      },
      "execution_count": null,
      "outputs": []
    }
  ]
}