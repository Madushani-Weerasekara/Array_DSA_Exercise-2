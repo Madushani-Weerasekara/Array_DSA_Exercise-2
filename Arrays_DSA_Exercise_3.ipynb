{
  "nbformat": 4,
  "nbformat_minor": 0,
  "metadata": {
    "colab": {
      "provenance": [],
      "authorship_tag": "ABX9TyMpfFO0fdcISjtaqjazgW0i",
      "include_colab_link": true
    },
    "kernelspec": {
      "name": "python3",
      "display_name": "Python 3"
    },
    "language_info": {
      "name": "python"
    }
  },
  "cells": [
    {
      "cell_type": "markdown",
      "metadata": {
        "id": "view-in-github",
        "colab_type": "text"
      },
      "source": [
        "<a href=\"https://colab.research.google.com/github/Madushani-Weerasekara/Array_DSA_Exercise-2/blob/main/Arrays_DSA_Exercise_3.ipynb\" target=\"_parent\"><img src=\"https://colab.research.google.com/assets/colab-badge.svg\" alt=\"Open In Colab\"/></a>"
      ]
    },
    {
      "cell_type": "markdown",
      "source": [
        "#Array_DSA_Excercise 3\n"
      ],
      "metadata": {
        "id": "tQcs0rpxGE5e"
      }
    },
    {
      "cell_type": "code",
      "source": [
        "#Create a list of all odd numbers between 1 and a max number. Max number is something you need to take from a user using input() function\n",
        "\n",
        "odd_numbers = []\n",
        "\n",
        "max_number = int(input('Enter a maximum number :'))\n",
        "\n",
        "for i in range(1,max_number+1):\n",
        "  if i % 2 != 0 :\n",
        "    odd_numbers.append(i)\n",
        "print(odd_numbers)\n",
        "\n"
      ],
      "metadata": {
        "colab": {
          "base_uri": "https://localhost:8080/"
        },
        "id": "HVt-gXKkGEiZ",
        "outputId": "55e9e3b3-666c-4743-b8e6-ca99e48b9866"
      },
      "execution_count": 9,
      "outputs": [
        {
          "output_type": "stream",
          "name": "stdout",
          "text": [
            "Enter a maximum number :26\n",
            "[1, 3, 5, 7, 9, 11, 13, 15, 17, 19, 21, 23, 25]\n"
          ]
        }
      ]
    },
    {
      "cell_type": "code",
      "execution_count": null,
      "metadata": {
        "id": "yqpMIKvmF5EM"
      },
      "outputs": [],
      "source": []
    }
  ]
}